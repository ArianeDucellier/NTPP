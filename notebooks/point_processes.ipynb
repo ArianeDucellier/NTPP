{
 "cells": [
  {
   "cell_type": "markdown",
   "id": "edf4b996-5ab1-4fd2-9f6a-100216e9ea2e",
   "metadata": {},
   "source": [
    "# What is a point process?"
   ]
  },
  {
   "cell_type": "markdown",
   "id": "e9756ef9-980c-4032-8d3c-7e7927285463",
   "metadata": {},
   "source": [
    "A temporal point process is a probability distribution over variable-length sequences in some time interval\n",
    "$[0 ; T]$. A realization of a marked temporal point process can be represented as an event sequence $X = {(t_1 ; m_1); \\cdots ; (t_N ; m_N)}$, where $N$, the number of events, is itself a random variable.\n",
    "\n",
    "Here, $0 < t_1 < \\cdots < t_N \\leq T$ are the times of occurrence of events and $m_i \\in \\mathcal{M}$ are the marks."
   ]
  },
  {
   "cell_type": "markdown",
   "id": "4028bb96-9bc4-4627-979a-dfbdf5d64b1c",
   "metadata": {},
   "source": [
    "_Examples of point processes:_\n",
    "\n",
    "- item 1\n",
    "- item 2"
   ]
  },
  {
   "cell_type": "markdown",
   "id": "8a72fd8d-19f8-47ee-aa6a-bab4f9168c33",
   "metadata": {},
   "source": [
    "We denote $\\mathcal{H}_t$ the history up to but not including time $t$:\n",
    "\n",
    "$\\mathcal{H}_t = \\left\\{ \\left( t_i , m_i \\right) \\forall i : t_i < t \\right\\}$\n",
    "\n",
    "where $t_i$ is the time of the $i$th event and $m_i$ is the corresponding mark. If we denote by $N_{\\delta} \\left( t \\right)$ the number of events occurring in $[ t , t + \\delta )$, the ground intensity function is defined by:\n",
    "\n",
    "$\\lambda_g \\left( t \\mid \\mathcal{H}_t \\right) = \\lim_{\\delta \\rightarrow 0} \\frac{1}{\\delta} Pr \\left\\{ N_{\\delta} \\left( t \\right) > 0 \\mid \\mathcal{H}_t \\right\\}$"
   ]
  },
  {
   "cell_type": "markdown",
   "id": "dcd4d92e-a63b-4e0e-989a-5d88c39fdd23",
   "metadata": {},
   "source": [
    "Our objective is to use a dataset of events to model the ground intensity function. Then, we can generate event sequences is the same probability distribution, or predict the time (and the mark) of the next event."
   ]
  },
  {
   "cell_type": "markdown",
   "id": "6c4b8a3d-14b8-4b58-b6dc-d66b5eda5a3c",
   "metadata": {},
   "source": [
    "To compute the likelihood, we denote $\\tau$ the time of the last event before time $t$, and $\\emptyset_{(\\tau , t)}$ the null outcome, that is there is no event between time $\\tau$ and time $t$. The conditional distribution of the time of the next event, that is the probability that the time $t$ of the next event is lower or equal to $T$ given the history until time $\\tau$ ($\\mathcal{H}_{\\tau}$) and the fact that there is no event between time $\\tau$ and time $t$, is denoted:\n",
    "\n",
    "$H(t \\mid \\mathcal{H}_{\\tau} \\cap \\emptyset_{(\\tau , t)}) = Pr \\{T \\geq t \\mid \\mathcal{H}_{\\tau} \\cap \\emptyset_{(\\tau , t)}\\}$"
   ]
  },
  {
   "cell_type": "markdown",
   "id": "c108d485-d2a4-48e9-87b2-a0e86b4eace5",
   "metadata": {},
   "source": [
    "The corresponding density function is denoted $h(t \\mid \\mathcal{H}_{\\tau} \\cap \\emptyset_{(\\tau , t)})$. Then we have:\n",
    "\n",
    "$\\lambda_g(t \\mid \\mathcal{H} \\cap \\emptyset_{(\\tau , t)}) = \\frac{h(t \\mid \\mathcal{H} \\cap \\emptyset_{(\\tau , t)})}{1 - H(t \\mid \\mathcal{H} \\cap \\emptyset_{(\\tau , t)})}$"
   ]
  },
  {
   "cell_type": "markdown",
   "id": "e430a930-b01c-4af6-9c8e-21a38ad44f68",
   "metadata": {},
   "source": [
    "Solving the differential equation gives:\n",
    "\n",
    "$H(t \\mid \\mathcal{H} \\cap \\emptyset_{(\\tau , t)}) = 1 - \\exp \\{- \\int_{\\tau}^t \\lambda_g(u \\mid \\mathcal{H} \\cap \\emptyset_{(\\tau , u)}) du\\}$\n",
    "\n",
    "and:\n",
    "\n",
    "$h(t \\mid \\mathcal{H} \\cap \\emptyset_{(\\tau , t)}) = \\lambda_g(t \\mid \\mathcal{H} \\cap \\emptyset_{(\\tau , t)}) \\exp \\{- \\int_{\\tau}^t \\lambda_g(u \\mid \\mathcal{H} \\cap \\emptyset_{(\\tau , u)}) du \\}$"
   ]
  },
  {
   "cell_type": "markdown",
   "id": "b7c7cc48-2386-457e-8d8d-15bda664f290",
   "metadata": {},
   "source": [
    "We fit the model by maximizing the likelihood of the ground intensity function. If $T_1$ and $T_2$ are the beginning and end time of the catalog of events and we only explicitly include in the likelihood the events which time $t_i$ are such that $T_1 \\leq t_i \\leq T_2$, the log-likelihood is equal to:\n",
    "\n",
    "\\begin{equation}\n",
    "\\begin{aligned}\n",
    "\\log L &= \\log h \\left( t_1 \\mid \\mathcal{H}_{T_1} \\cap \\emptyset_{\\left( T_1 , t_1 \\right)} \\right) + \\sum_{i = 2}^n \\log h \\left( t_i \\mid \\mathcal{H}_{t_i - 1} \\cap \\emptyset_{\\left( t_{i - 1} , t_i \\right)} \\right) \\\\\n",
    "&+ \\log \\left( 1 - H \\left( T_2 \\mid \\mathcal{H}_{t_n} \\cap \\emptyset_{\\left( t_n , T_2 \\right)} \\right) \\right) \\\\\n",
    "&= \\sum_{i = 1}^n \\log \\lambda_g \\left( t_i \\mid \\mathcal{H}_{t_i} \\right) - \\int_{T_1}^{t_1} \\lambda_g \\left( u \\mid \\mathcal{H}_{T_1} \\cap \\emptyset_{\\left( T_1 , u \\right)} \\right) du \\\\\n",
    "&- \\sum_{i = 2}^n \\int_{t_{i - 1}}^{t_i} \\lambda_g \\left( u \\mid \\mathcal{H}_{t_{i - 1}} \\cap \\emptyset_{\\left( t_{i - 1} , u \\right)} \\right) du - \\int_{t_n}^{T_2} \\lambda_g \\left( u \\mid \\mathcal{H}_{t_n} \\cap \\emptyset_{\\left( t_n , u \\right)} \\right) du \\\\\n",
    "&= \\sum_{i: T_1 \\leq t_i \\leq T_2} \\log \\lambda_g \\left( t_i \\mid \\mathcal{H}_{t_i} \\right) - \\int_{T_1}^{T_2} \\lambda_g \\left( t \\mid \\mathcal{H}_t \\right) dt\n",
    "\\end{aligned}\n",
    "\\end{equation}"
   ]
  },
  {
   "cell_type": "code",
   "execution_count": null,
   "id": "f3149bc0-16a1-40d7-940c-5ab694343bec",
   "metadata": {},
   "outputs": [],
   "source": []
  }
 ],
 "metadata": {
  "kernelspec": {
   "display_name": "Python 3 (ipykernel)",
   "language": "python",
   "name": "python3"
  },
  "language_info": {
   "codemirror_mode": {
    "name": "ipython",
    "version": 3
   },
   "file_extension": ".py",
   "mimetype": "text/x-python",
   "name": "python",
   "nbconvert_exporter": "python",
   "pygments_lexer": "ipython3",
   "version": "3.7.12"
  }
 },
 "nbformat": 4,
 "nbformat_minor": 5
}
