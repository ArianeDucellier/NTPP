{
 "cells": [
  {
   "cell_type": "markdown",
   "id": "2ef0b115-77f3-44d2-acf1-ad80032298de",
   "metadata": {},
   "source": [
    "# Encoding the data"
   ]
  },
  {
   "cell_type": "markdown",
   "id": "e315843d-65ba-47ad-a963-e09d71182966",
   "metadata": {},
   "source": [
    "The first step of modeling the point process is to encode the dataset.\n",
    "\n",
    "The dataset is usually given as a list of events, with the time of occurrence of the event and sometimes additional information on the event.\n",
    "\n",
    "This dataset needs to be transformed into a time series for modeling and prediction."
   ]
  },
  {
   "cell_type": "markdown",
   "id": "2e61ed5a-4d68-4179-96ed-ad4f3161ec79",
   "metadata": {},
   "source": [
    "Let us denote $(t_j , m_j)$ the time of occurrence and the mark of the event $j$."
   ]
  },
  {
   "cell_type": "markdown",
   "id": "46f5c7a6-84c0-4b17-898b-fafde4446bc3",
   "metadata": {},
   "source": [
    "## Encoding the times of occurrence"
   ]
  },
  {
   "cell_type": "markdown",
   "id": "88c3e37d-cad0-42ef-ba58-b1314568c9a4",
   "metadata": {},
   "source": [
    "A first method of encoding is the use the inter-event times $y_j^{time} = \\tau_j = t_j - t_{j - 1}$ or their logarithms $y_j^{time} = \\log \\tau_j = \\log (t_j - t_{j - 1})$.\n",
    "\n",
    "See Du et al. (2016), Omi et al. (2019)."
   ]
  },
  {
   "cell_type": "markdown",
   "id": "0068df99-50e1-4836-b1df-cf2a889b2113",
   "metadata": {},
   "source": [
    "A second method of encoding is to use trigonometric functions. The positional encoding is defined as a\n",
    "$K$-dimensional vector such that the $k$-th dimension of the position embedding is calculated as:\n",
    "\n",
    "$pe_k (t_i , m_i) = \\sin (\\omega_k  i + w_k t_i)$\n",
    "\n",
    "where $i$ is the absolute position of an event in a sequence, $\\omega_k$ is the angle frequency of the $k$-th dimension and $w_k$ is a scaling parameter that converts the timestamp $t_i$ to a phase shift in the $k$-th dimension.\n",
    "\n",
    "Multiple sinusoidal functions with different $\\omega_k$ and $w_k$ are used to generate the multiple position\n",
    "values, the concatenation of which is the new positional encoding. Even and odd dimensions of $pe$ are generated from $\\sin$ and $\\cos$ respectively.\n",
    "\n",
    "See Zhang et al. (2021), Zuo et al. (2020)."
   ]
  },
  {
   "cell_type": "code",
   "execution_count": null,
   "id": "ebc7976c-83d6-45cb-bc11-497efdb421b0",
   "metadata": {},
   "outputs": [],
   "source": []
  }
 ],
 "metadata": {
  "kernelspec": {
   "display_name": "Python 3 (ipykernel)",
   "language": "python",
   "name": "python3"
  },
  "language_info": {
   "codemirror_mode": {
    "name": "ipython",
    "version": 3
   },
   "file_extension": ".py",
   "mimetype": "text/x-python",
   "name": "python",
   "nbconvert_exporter": "python",
   "pygments_lexer": "ipython3",
   "version": "3.7.12"
  }
 },
 "nbformat": 4,
 "nbformat_minor": 5
}
